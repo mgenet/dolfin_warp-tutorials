{
 "cells": [
  {
   "cell_type": "markdown",
   "metadata": {},
   "source": [
    "# Generate & track synthetic images"
   ]
  },
  {
   "cell_type": "markdown",
   "metadata": {},
   "source": [
    "We start with some imports…"
   ]
  },
  {
   "cell_type": "code",
   "execution_count": null,
   "metadata": {
    "scrolled": true
   },
   "outputs": [],
   "source": [
    "import dolfin # https://fenicsproject.org\n",
    "\n",
    "import dolfin_warp as dwarp # https://gitlab.inria.fr/mgenet/dolfin_warp\n",
    "\n",
    "import lib_viewer"
   ]
  },
  {
   "cell_type": "markdown",
   "metadata": {},
   "source": [
    "## Synthetic data generation"
   ]
  },
  {
   "cell_type": "markdown",
   "metadata": {},
   "source": [
    "### Image generation"
   ]
  },
  {
   "cell_type": "markdown",
   "metadata": {},
   "source": [
    "Let us introduce a small tool to generate simple synthetic images.\n",
    "Here we define all the images parameters."
   ]
  },
  {
   "cell_type": "code",
   "execution_count": null,
   "metadata": {
    "scrolled": true
   },
   "outputs": [],
   "source": [
    "# Image parameters\n",
    "n_dim    = 2           # dimension (2 or 3)\n",
    "L        = [1.]*n_dim  # spatial extent\n",
    "n_voxels = [100]*n_dim # spatial discretization\n",
    "T        = 1.          # temporal extent\n",
    "n_frames = 21          # temporal discretization\n",
    "\n",
    "# Structure (i.e., object) parameters\n",
    "#    (For now we will consider a simple squared object.\n",
    "#    (For the translation case it is convenient to start with an uncentered square,\n",
    "#    (whereas for the other cases it is convenient if the square is centered.\n",
    "structure_type = \"box\"; structure_Xmin = [0.1, 0.3]; structure_Xmax = [0.5, 0.7]\n",
    "# structure_type = \"box\"; structure_Xmin = [0.3, 0.3]; structure_Xmax = [0.7, 0.7]\n",
    "\n",
    "# Texture parameters\n",
    "#    (\"no\" means the image will be the characteristic function of the object in its current position,\n",
    "#    (which is the simplest model for standard (i.e., untagged) MRI images,\n",
    "#    (whereas \"tagging\" means the signal over the object will be sqrt(abs(sin(pi*x/s))*abs(sin(pi*y/s))),\n",
    "#    (which is the simplest model for tagged MRI images.\n",
    "texture_type = \"tagging\"; texture_s = 0.1\n",
    "# texture_type = \"no\"\n",
    "\n",
    "# Noise parameters\n",
    "noise_level = 0\n",
    "# noise_level = 0.1\n",
    "# noise_level = 0.2\n",
    "# noise_level = 0.3\n",
    "\n",
    "# Transformation parameters\n",
    "#    (For now we consider basis transformations of the object.\n",
    "deformation_type = \"translation\"; deformation_Dx = 0.4; deformation_Dy = 0.\n",
    "# deformation_type = \"rotation\"; deformation_Cx = 0.5; deformation_Cy = 0.5; deformation_Rz = 45.\n",
    "# deformation_type = \"compression\"; deformation_Cx = 0.5; deformation_Cy = 0.5; deformation_Exx = -0.20\n",
    "# deformation_type = \"shear\"; deformation_Cx = 0.5; deformation_Cy = 0.5; deformation_Fxy = +0.20\n",
    "\n",
    "# Evolution parameters\n",
    "#    (\"linear\" means the object will transform linearly in time,\n",
    "#    (reaching its presribed deformation on the last frame.\n",
    "evolution_type = \"linear\"\n",
    "\n",
    "# Case\n",
    "case  = deformation_type\n",
    "case += \"-\"+texture_type\n",
    "if (noise_level > 0):\n",
    "    case += \"-\"+str(noise_level)"
   ]
  },
  {
   "cell_type": "markdown",
   "metadata": {},
   "source": [
    "And then actually generate the images."
   ]
  },
  {
   "cell_type": "code",
   "execution_count": null,
   "metadata": {
    "scrolled": true
   },
   "outputs": [],
   "source": [
    "# Image properties\n",
    "images = {\n",
    "    \"n_dim\":n_dim,\n",
    "    \"L\":L,\n",
    "    \"n_voxels\":n_voxels,\n",
    "    \"T\":T,\n",
    "    \"n_frames\":n_frames,\n",
    "    \"data_type\":\"float\",\n",
    "    \"folder\":\"E1\",\n",
    "    \"basename\":\"images-\"+case}\n",
    "\n",
    "# Structure (i.e., object) properties\n",
    "if (structure_type == \"box\"):\n",
    "    structure = {\"type\":\"box\", \"Xmin\":structure_Xmin, \"Xmax\":structure_Xmax}\n",
    "\n",
    "# Texture properties\n",
    "if   (texture_type == \"no\"):\n",
    "    texture = {\"type\":\"no\"}\n",
    "elif (texture_type == \"tagging\"):\n",
    "    texture = {\"type\":\"tagging\", \"s\":texture_s}\n",
    "\n",
    "# Noise properties\n",
    "if (noise_level == 0):\n",
    "    noise = {\"type\":\"no\"}\n",
    "else:\n",
    "    noise = {\"type\":\"normal\", \"stdev\":noise_level}\n",
    "\n",
    "# Deformation properties\n",
    "if   (deformation_type == \"translation\"):\n",
    "    deformation = {\"type\":\"translation\", \"Dx\":deformation_Dx, \"Dy\":deformation_Dy}\n",
    "elif (deformation_type == \"rotation\"):\n",
    "    deformation = {\"type\":\"rotation\", \"Cx\":deformation_Cx, \"Cy\":deformation_Cy, \"Rz\":deformation_Rz}\n",
    "elif (deformation_type == \"compression\"):\n",
    "    deformation = {\"type\":\"homogeneous\", \"X0\":deformation_Cx, \"Y0\":deformation_Cy, \"Exx\":deformation_Exx}\n",
    "elif (deformation_type == \"shear\"):\n",
    "    deformation = {\"type\":\"homogeneous\", \"X0\":deformation_Cx, \"Y0\":deformation_Cy, \"Fxy\":deformation_Fxy}\n",
    "\n",
    "# Evolution properties\n",
    "if (evolution_type == \"linear\"):\n",
    "    evolution = {\"type\":\"linear\"}\n",
    "\n",
    "# Generate images\n",
    "dwarp.generate_images(\n",
    "    images=images,\n",
    "    structure=structure,\n",
    "    texture=texture,\n",
    "    noise=noise,\n",
    "    deformation=deformation,\n",
    "    evolution=evolution,\n",
    "    verbose=0)"
   ]
  },
  {
   "cell_type": "markdown",
   "metadata": {},
   "source": [
    "We visualize them using [itkwidgets](https://github.com/InsightSoftwareConsortium/itkwidgets)."
   ]
  },
  {
   "cell_type": "code",
   "execution_count": null,
   "metadata": {
    "scrolled": true
   },
   "outputs": [],
   "source": [
    "viewer = lib_viewer.Viewer(\n",
    "    images=\"E1/images-\"+case+\"_*.vti\")\n",
    "viewer.view()"
   ]
  },
  {
   "cell_type": "markdown",
   "metadata": {},
   "source": [
    "### Ground truth generation"
   ]
  },
  {
   "cell_type": "markdown",
   "metadata": {},
   "source": [
    "Later on we will track the object throughout the images using finite elements.\n",
    "To assess the quality of the tracking, it is convenient to have a ground truth, in the form of a finite element solution over a mesh.\n",
    "We now create the mesh, and generate this ground truth."
   ]
  },
  {
   "cell_type": "markdown",
   "metadata": {},
   "source": [
    "#### Mesh"
   ]
  },
  {
   "cell_type": "code",
   "execution_count": null,
   "metadata": {
    "scrolled": true
   },
   "outputs": [],
   "source": [
    "# Mesh parameter\n",
    "n_elems = 1"
   ]
  },
  {
   "cell_type": "code",
   "execution_count": null,
   "metadata": {},
   "outputs": [],
   "source": [
    "# Generate mesh\n",
    "mesh = dolfin.RectangleMesh(\n",
    "    dolfin.Point(structure_Xmin),\n",
    "    dolfin.Point(structure_Xmax),\n",
    "    n_elems,\n",
    "    n_elems,\n",
    "    \"crossed\")"
   ]
  },
  {
   "cell_type": "markdown",
   "metadata": {},
   "source": [
    "#### Ground truth"
   ]
  },
  {
   "cell_type": "code",
   "execution_count": null,
   "metadata": {
    "scrolled": true
   },
   "outputs": [],
   "source": [
    "# Generate ground truth\n",
    "dwarp.compute_warped_mesh(\n",
    "    working_folder=\"E1\",\n",
    "    working_basename=\"ground_truth\"+\"-\"+deformation_type,\n",
    "    images=images,\n",
    "    structure=structure,\n",
    "    deformation=deformation,\n",
    "    evolution=evolution,\n",
    "    mesh=mesh,\n",
    "    verbose=0)"
   ]
  },
  {
   "cell_type": "markdown",
   "metadata": {},
   "source": [
    "We can now visualize the images and meshes.\n",
    "(To better see the mesh on top of the images, select the \"Wireframe\" mode for the mesh)."
   ]
  },
  {
   "cell_type": "code",
   "execution_count": null,
   "metadata": {
    "scrolled": true
   },
   "outputs": [],
   "source": [
    "viewer = lib_viewer.Viewer(\n",
    "    images=\"E1/images-\"+case+\"_*.vti\",\n",
    "    meshes=\"E1/ground_truth-\"+deformation_type+\"_*.vtu\")\n",
    "viewer.view()"
   ]
  },
  {
   "cell_type": "markdown",
   "metadata": {},
   "source": [
    "## Motion tracking"
   ]
  },
  {
   "cell_type": "markdown",
   "metadata": {},
   "source": [
    "### Motion tracking"
   ]
  },
  {
   "cell_type": "markdown",
   "metadata": {},
   "source": [
    "We now introduce a motion tracking tool.\n",
    "Here we define all the tracking parameters."
   ]
  },
  {
   "cell_type": "code",
   "execution_count": null,
   "metadata": {
    "scrolled": true
   },
   "outputs": [],
   "source": [
    "# Regularization strength\n",
    "#    (It must be ≥ 0 and < 1.\n",
    "regul_level = 0.\n",
    "\n",
    "# Regularization type\n",
    "#    (\"continuous-elastic\" means the image term is penalized with the strain energy of the displacement field.\n",
    "#    (\"continuous-equilibrated\" means the image term is penalized with the equilibrium gap of the displacement field.\n",
    "#    (\"discrete-equilibrated\" means the image term is penalized with the discrete linear equilibrium gap of the displacement field.\n",
    "# regul_type = \"continuous-linear-elastic\"\n",
    "# regul_type = \"continuous-linear-equilibrated\"\n",
    "regul_type = \"continuous-elastic\"\n",
    "# regul_type = \"continuous-equilibrated\"\n",
    "# regul_type = \"discrete-simple-elastic\"\n",
    "# regul_type = \"discrete-simple-equilibrated\"\n",
    "# regul_type = \"discrete-linear-equilibrated\"\n",
    "# regul_type = \"discrete-linear-equilibrated-tractions-normal\"\n",
    "# regul_type = \"discrete-linear-equilibrated-tractions-tangential\"\n",
    "# regul_type = \"discrete-linear-equilibrated-tractions-normal-tangential\"\n",
    "# regul_type = \"discrete-equilibrated\"\n",
    "# regul_type = \"discrete-equilibrated-tractions-normal\"\n",
    "# regul_type = \"discrete-equilibrated-tractions-tangential\"\n",
    "# regul_type = \"discrete-equilibrated-tractions-normal-tangential\"\n",
    "\n",
    "# Regularization model\n",
    "#    (\"hooke\" means the linear isotropic Hooke law (infinitesimal strain/linearized elasticity).\n",
    "#    (\"ciarletgeymonatneohookean\" means the hyperelastic potential made of Ciarlet-Geymonat & neo-Hookean terms (finite strain/nonlinear elasticity).\n",
    "if any([_ in regul_type for _ in [\"linear\", \"simple\"]]):\n",
    "    regul_model = \"hooke\"\n",
    "else:\n",
    "    regul_model = \"ciarletgeymonatneohookean\""
   ]
  },
  {
   "cell_type": "markdown",
   "metadata": {},
   "source": [
    "And then actually run the tracking."
   ]
  },
  {
   "cell_type": "code",
   "execution_count": null,
   "metadata": {
    "scrolled": true
   },
   "outputs": [],
   "source": [
    "# Perform tracking\n",
    "dwarp.warp(\n",
    "    working_folder=\"E1\",\n",
    "    working_basename=\"tracking-\"+case,\n",
    "    #\n",
    "    images_folder=\"E1\",\n",
    "    images_basename=\"images-\"+case,\n",
    "    #\n",
    "    mesh=mesh,\n",
    "    #\n",
    "    regul_type=regul_type,\n",
    "    regul_model=regul_model,\n",
    "    regul_level=regul_level,\n",
    "    #\n",
    "    relax_type=\"constant\",\n",
    "    tol_dU=1e-2,\n",
    "    #\n",
    "    write_VTU_files=True,\n",
    "    write_VTU_files_with_preserved_connectivity=True)"
   ]
  },
  {
   "cell_type": "markdown",
   "metadata": {},
   "source": [
    "We can now visualize the images and tracked meshes.\n",
    "(To better see the mesh on top of the images, select the \"Wireframe\" mode for the mesh)."
   ]
  },
  {
   "cell_type": "code",
   "execution_count": null,
   "metadata": {
    "scrolled": false
   },
   "outputs": [],
   "source": [
    "viewer = lib_viewer.Viewer(\n",
    "    images=\"E1/images-\"+case+\"_*.vti\",\n",
    "    meshes=\"E1/tracking-\"+case+\"_*.vtu\")\n",
    "viewer.view()"
   ]
  },
  {
   "cell_type": "markdown",
   "metadata": {},
   "source": [
    "### Tracking error"
   ]
  },
  {
   "cell_type": "markdown",
   "metadata": {},
   "source": [
    "We can compute a normalized tracking error by comparing the tracked displacement $\\underline{U}$ and the ground truth displacement $\\underline{\\bar U}$:\n",
    "\n",
    "$$\n",
    "e := \\dfrac{\\sqrt{\\frac{1}{T}\\int_{t=0}^{T} \\frac{1}{\\left|\\Omega_0\\right|}\\int_{\\Omega_0} \\left\\|\\underline{U} - \\underline{\\bar U}\\right\\|^2 d\\Omega_0~dT}}{\\sqrt{\\frac{1}{T}\\int_{t=0}^{T} \\frac{1}{\\left|\\Omega_0\\right|}\\int_{\\Omega_0} \\left\\|\\underline{\\bar U}\\right\\|^2 d\\Omega_0~dT}}\n",
    "$$\n",
    "\n",
    "(Watch out, the meshes should match as the error is actually computed at the discrete level!)"
   ]
  },
  {
   "cell_type": "code",
   "execution_count": null,
   "metadata": {
    "scrolled": true
   },
   "outputs": [],
   "source": [
    "dwarp.compute_displacement_error(\n",
    "    working_folder=\"E1\",\n",
    "    working_basename=\"tracking-\"+case,\n",
    "    ref_folder=\"E1\",\n",
    "    ref_basename=\"ground_truth-\"+deformation_type,\n",
    "    verbose=0)"
   ]
  },
  {
   "cell_type": "markdown",
   "metadata": {},
   "source": [
    "## References\n",
    "\n",
    "[[Claire, Hild & Roux (2004). A finite element formulation to identify damage fields: The equilibrium gap method. International Journal for Numerical Methods in Engineering, 61(2), 189–208.]](https://doi.org/10.1002/nme.1057)\n",
    "\n",
    "[[Veress, Gullberg & Weiss (2005). Measurement of Strain in the Left Ventricle during Diastole with cine-MRI and Deformable Image Registration. Journal of Biomechanical Engineering, 127(7), 1195.]](https://doi.org/10.1115/1.2073677)\n",
    "\n",
    "[[Réthoré, Roux & Hild (2009). An extended and integrated digital image correlation technique applied to the analysis of fractured samples: The equilibrium gap method as a mechanical filter. European Journal of Computational Mechanics.]](https://doi.org/10.3166/ejcm.18.285-306)\n",
    "\n",
    "[[Leclerc, Périé, Roux & Hild (2010). Voxel-Scale Digital Volume Correlation. Experimental Mechanics, 51(4), 479–490.]](https://doi.org/10.1007/s11340-010-9407-6)\n",
    "\n",
    "[[Genet, Stoeck, von Deuster, Lee & Kozerke (2018). Equilibrated Warping: Finite Element Image Registration with Finite Strain Equilibrium Gap Regularization. Medical Image Analysis, 50, 1–22.]](https://doi.org/10.1016/j.media.2018.07.007)\n",
    "\n",
    "[[Lee & Genet (2019). Validation of Equilibrated Warping—Image Registration with Mechanical Regularization—On 3D Ultrasound Images. In Coudière, Ozenne, Vigmond & Zemzemi (Eds.), Functional Imaging and Modeling of the Heart (FIMH) (Vol. 11504, pp. 334–341). Springer International Publishing.]](https://doi.org/10.1007/978-3-030-21949-9_36)\n",
    "\n",
    "[[Berberoğlu, Stoeck, Moireau, Kozerke & Genet (2019). Validation of Finite Element Image Registration‐based Cardiac Strain Estimation from Magnetic Resonance Images. PAMM, 19(1).]](https://doi.org/10.1002/pamm.201900418)\n",
    "\n",
    "[[Genet (2023). Finite strain formulation of the discrete equilibrium gap principle: application to mechanically consistent regularization for large motion tracking. Comptes Rendus Mécanique, 351, 429-458.]](https://doi.org/10.5802/crmeca.228)"
   ]
  }
 ],
 "metadata": {
  "kernelspec": {
   "display_name": "Python 3.8.15 ('MEC581-2023')",
   "language": "python",
   "name": "python3"
  },
  "language_info": {
   "codemirror_mode": {
    "name": "ipython",
    "version": 3
   },
   "file_extension": ".py",
   "mimetype": "text/x-python",
   "name": "python",
   "nbconvert_exporter": "python",
   "pygments_lexer": "ipython3",
   "version": "3.8.15"
  },
  "toc": {
   "base_numbering": 1,
   "nav_menu": {},
   "number_sections": true,
   "sideBar": true,
   "skip_h1_title": true,
   "title_cell": "Table of Contents",
   "title_sidebar": "Contents",
   "toc_cell": false,
   "toc_position": {
    "height": "calc(100% - 180px)",
    "left": "10px",
    "top": "150px",
    "width": "292.533px"
   },
   "toc_section_display": true,
   "toc_window_display": true
  },
  "varInspector": {
   "cols": {
    "lenName": 16,
    "lenType": 16,
    "lenVar": 40
   },
   "kernels_config": {
    "python": {
     "delete_cmd_postfix": "",
     "delete_cmd_prefix": "del ",
     "library": "var_list.py",
     "varRefreshCmd": "print(var_dic_list())"
    },
    "r": {
     "delete_cmd_postfix": ") ",
     "delete_cmd_prefix": "rm(",
     "library": "var_list.r",
     "varRefreshCmd": "cat(var_dic_list()) "
    }
   },
   "types_to_exclude": [
    "module",
    "function",
    "builtin_function_or_method",
    "instance",
    "_Feature"
   ],
   "window_display": false
  },
  "vscode": {
   "interpreter": {
    "hash": "7270dbcea11da5cec531e1718dcee1b0bd6d50ade99199989795797a9208c905"
   }
  }
 },
 "nbformat": 4,
 "nbformat_minor": 4
}
